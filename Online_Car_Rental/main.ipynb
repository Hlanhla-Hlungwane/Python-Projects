{
 "cells": [
  {
   "cell_type": "code",
   "execution_count": 1,
   "id": "a9a20010-e48a-491f-bbd1-64cca98dc837",
   "metadata": {},
   "outputs": [
    {
     "ename": "ModuleNotFoundError",
     "evalue": "No module named 'car_rental'",
     "output_type": "error",
     "traceback": [
      "\u001b[0;31m---------------------------------------------------------------------------\u001b[0m",
      "\u001b[0;31mModuleNotFoundError\u001b[0m                       Traceback (most recent call last)",
      "\u001b[0;32m/tmp/ipykernel_441/852738459.py\u001b[0m in \u001b[0;36m<cell line: 7>\u001b[0;34m()\u001b[0m\n\u001b[1;32m      5\u001b[0m \u001b[0;31m#Perfomed on Jupyter Notebook\u001b[0m\u001b[0;34m\u001b[0m\u001b[0;34m\u001b[0m\u001b[0m\n\u001b[1;32m      6\u001b[0m \u001b[0;34m\u001b[0m\u001b[0m\n\u001b[0;32m----> 7\u001b[0;31m \u001b[0;32mfrom\u001b[0m \u001b[0mcar_rental\u001b[0m \u001b[0;32mimport\u001b[0m \u001b[0mCarRental\u001b[0m\u001b[0;34m,\u001b[0m \u001b[0mCustomer\u001b[0m  \u001b[0;31m# Import the car rental module\u001b[0m\u001b[0;34m\u001b[0m\u001b[0;34m\u001b[0m\u001b[0m\n\u001b[0m\u001b[1;32m      8\u001b[0m \u001b[0;34m\u001b[0m\u001b[0m\n\u001b[1;32m      9\u001b[0m \u001b[0;32mdef\u001b[0m \u001b[0mmain\u001b[0m\u001b[0;34m(\u001b[0m\u001b[0;34m)\u001b[0m\u001b[0;34m:\u001b[0m\u001b[0;34m\u001b[0m\u001b[0;34m\u001b[0m\u001b[0m\n",
      "\u001b[0;31mModuleNotFoundError\u001b[0m: No module named 'car_rental'"
     ]
    }
   ],
   "source": [
    "#Hlanhla Hlungwane\n",
    "#30 April 2025\n",
    "#Define a class for an Online Car Rental Platform\n",
    "#Object Oriented Programming on Python\n",
    "#Perfomed on Jupyter Notebook \n",
    "\n",
    "from car_rental import CarRental, Customer  # Import the car rental module\n",
    "\n",
    "def main():\n",
    " \"\"\"\n",
    " Main method to run the car rental project.\n",
    " \"\"\"\n",
    " # Create objects for CarRental and Customer classes\n",
    " rental_system = CarRental(10)  # Initialize with 10 cars in inventory\n",
    " customer = Customer()\n",
    "\n",
    " while True:\n",
    "     print(\"\\nWelcome to the Car Rental System!\")\n",
    "     print(\"1. Display available cars\")\n",
    "     print(\"2. Rent cars\")\n",
    "     print(\"3. Return cars\")\n",
    "     print(\"4. Exit\")\n",
    "\n",
    "     try:\n",
    "         choice = int(input(\"Enter your choice: \"))\n",
    "     except ValueError:\n",
    "         print(\"Invalid input. Please enter a number between 1 and 4.\")\n",
    "         continue\n",
    "\n",
    "     if choice == 1:\n",
    "         rental_system.display_available_cars()\n",
    "\n",
    "     elif choice == 2:\n",
    "         print(\"\\nChoose a rental mode:\")\n",
    "         print(\"1. Hourly ($10/hour)\")\n",
    "         print(\"2. Daily ($50/day)\")\n",
    "         print(\"3. Weekly ($200/week)\")\n",
    "\n",
    "         try:\n",
    "             rental_mode = int(input(\"Enter your choice: \"))\n",
    "         except ValueError:\n",
    "             print(\"Invalid input. Please enter a number between 1 and 3.\")\n",
    "             continue\n",
    "\n",
    "         num_of_cars = customer.request_car()\n",
    "         if num_of_cars is not None:\n",
    "             if rental_mode == 1:\n",
    "                 rental_system.rent_car_hourly(num_of_cars)\n",
    "             elif rental_mode == 2:\n",
    "                 rental_system.rent_car_daily(num_of_cars)\n",
    "             elif rental_mode == 3:\n",
    "                 rental_system.rent_car_weekly(num_of_cars)\n",
    "             else:\n",
    "                 print(\"Invalid rental mode.\")\n",
    "\n",
    "     elif choice == 3:\n",
    "         customer.return_car()\n",
    "         rental_system.return_car()\n",
    "\n",
    "     elif choice == 4:\n",
    "         print(\"Thank you for using the Car Rental System. Goodbye!\")\n",
    "         break\n",
    "\n",
    "     else:\n",
    "         print(\"Invalid choice. Please enter a number between 1 and 4.\")\n",
    "\n",
    "# Run the main method\n",
    "if __name__ == \"__main__\":\n",
    " main()"
   ]
  },
  {
   "cell_type": "code",
   "execution_count": null,
   "id": "74aa695c-7e48-4eae-b3bb-ed088b2519b2",
   "metadata": {},
   "outputs": [],
   "source": []
  }
 ],
 "metadata": {
  "kernelspec": {
   "display_name": "Python 3 [3.10]",
   "language": "python",
   "name": "python3"
  },
  "language_info": {
   "codemirror_mode": {
    "name": "ipython",
    "version": 3
   },
   "file_extension": ".py",
   "mimetype": "text/x-python",
   "name": "python",
   "nbconvert_exporter": "python",
   "pygments_lexer": "ipython3",
   "version": "3.10.2"
  }
 },
 "nbformat": 4,
 "nbformat_minor": 5
}
